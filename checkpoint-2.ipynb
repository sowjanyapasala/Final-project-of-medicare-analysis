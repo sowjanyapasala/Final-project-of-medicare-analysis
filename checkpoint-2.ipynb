{
 "cells": [
  {
   "cell_type": "markdown",
   "metadata": {
    "azdata_cell_guid": "151601c9-ca7a-412e-af80-c62a87e0837e"
   },
   "source": [
    "# Checkpoint Two: Exploratory Data Analysis\n",
    "\n",
    "Now that your chosen dataset is approved, it is time to start working on your analysis. Use this notebook to perform your EDA and make notes where directed to as you work.\n",
    "\n",
    "## Getting Started\n",
    "\n",
    "Since we have not provided your dataset for you, you will need to load the necessary files in this repository. Make sure to include a link back to the original dataset here as well.\n",
    "\n",
    "My dataset:https://www.kaggle.com/datasets/tunguz/inpatient-prospective-payment-system-ipps\n",
    "\n",
    "Your first task in EDA is to import necessary libraries and create a dataframe(s). Make note in the form of code comments of what your thought process is as you work on this setup task."
   ]
  },
  {
   "cell_type": "code",
   "execution_count": 2,
   "metadata": {
    "azdata_cell_guid": "7b503e37-6df5-4433-acfb-678b1346db14"
   },
   "outputs": [
    {
     "data": {
      "text/html": [
       "<div>\n",
       "<style scoped>\n",
       "    .dataframe tbody tr th:only-of-type {\n",
       "        vertical-align: middle;\n",
       "    }\n",
       "\n",
       "    .dataframe tbody tr th {\n",
       "        vertical-align: top;\n",
       "    }\n",
       "\n",
       "    .dataframe thead th {\n",
       "        text-align: right;\n",
       "    }\n",
       "</style>\n",
       "<table border=\"1\" class=\"dataframe\">\n",
       "  <thead>\n",
       "    <tr style=\"text-align: right;\">\n",
       "      <th></th>\n",
       "      <th>DRG Definition</th>\n",
       "      <th>Provider Id</th>\n",
       "      <th>Provider Name</th>\n",
       "      <th>Provider Street Address</th>\n",
       "      <th>Provider City</th>\n",
       "      <th>Provider State</th>\n",
       "      <th>Provider Zip Code</th>\n",
       "      <th>Hospital Referral Region Description</th>\n",
       "      <th>Total Discharges</th>\n",
       "      <th>Average Covered Charges</th>\n",
       "      <th>Average Total Payments</th>\n",
       "      <th>Average Medicare Payments</th>\n",
       "    </tr>\n",
       "  </thead>\n",
       "  <tbody>\n",
       "    <tr>\n",
       "      <th>0</th>\n",
       "      <td>039 - EXTRACRANIAL PROCEDURES W/O CC/MCC</td>\n",
       "      <td>10001</td>\n",
       "      <td>SOUTHEAST ALABAMA MEDICAL CENTER</td>\n",
       "      <td>1108 ROSS CLARK CIRCLE</td>\n",
       "      <td>DOTHAN</td>\n",
       "      <td>AL</td>\n",
       "      <td>36301</td>\n",
       "      <td>AL - Dothan</td>\n",
       "      <td>91</td>\n",
       "      <td>32963.07</td>\n",
       "      <td>5777.24</td>\n",
       "      <td>4763.73</td>\n",
       "    </tr>\n",
       "    <tr>\n",
       "      <th>1</th>\n",
       "      <td>039 - EXTRACRANIAL PROCEDURES W/O CC/MCC</td>\n",
       "      <td>10005</td>\n",
       "      <td>MARSHALL MEDICAL CENTER SOUTH</td>\n",
       "      <td>2505 U S HIGHWAY 431 NORTH</td>\n",
       "      <td>BOAZ</td>\n",
       "      <td>AL</td>\n",
       "      <td>35957</td>\n",
       "      <td>AL - Birmingham</td>\n",
       "      <td>14</td>\n",
       "      <td>15131.85</td>\n",
       "      <td>5787.57</td>\n",
       "      <td>4976.71</td>\n",
       "    </tr>\n",
       "    <tr>\n",
       "      <th>2</th>\n",
       "      <td>039 - EXTRACRANIAL PROCEDURES W/O CC/MCC</td>\n",
       "      <td>10006</td>\n",
       "      <td>ELIZA COFFEE MEMORIAL HOSPITAL</td>\n",
       "      <td>205 MARENGO STREET</td>\n",
       "      <td>FLORENCE</td>\n",
       "      <td>AL</td>\n",
       "      <td>35631</td>\n",
       "      <td>AL - Birmingham</td>\n",
       "      <td>24</td>\n",
       "      <td>37560.37</td>\n",
       "      <td>5434.95</td>\n",
       "      <td>4453.79</td>\n",
       "    </tr>\n",
       "    <tr>\n",
       "      <th>3</th>\n",
       "      <td>039 - EXTRACRANIAL PROCEDURES W/O CC/MCC</td>\n",
       "      <td>10011</td>\n",
       "      <td>ST VINCENT'S EAST</td>\n",
       "      <td>50 MEDICAL PARK EAST DRIVE</td>\n",
       "      <td>BIRMINGHAM</td>\n",
       "      <td>AL</td>\n",
       "      <td>35235</td>\n",
       "      <td>AL - Birmingham</td>\n",
       "      <td>25</td>\n",
       "      <td>13998.28</td>\n",
       "      <td>5417.56</td>\n",
       "      <td>4129.16</td>\n",
       "    </tr>\n",
       "    <tr>\n",
       "      <th>4</th>\n",
       "      <td>039 - EXTRACRANIAL PROCEDURES W/O CC/MCC</td>\n",
       "      <td>10016</td>\n",
       "      <td>SHELBY BAPTIST MEDICAL CENTER</td>\n",
       "      <td>1000 FIRST STREET NORTH</td>\n",
       "      <td>ALABASTER</td>\n",
       "      <td>AL</td>\n",
       "      <td>35007</td>\n",
       "      <td>AL - Birmingham</td>\n",
       "      <td>18</td>\n",
       "      <td>31633.27</td>\n",
       "      <td>5658.33</td>\n",
       "      <td>4851.44</td>\n",
       "    </tr>\n",
       "    <tr>\n",
       "      <th>...</th>\n",
       "      <td>...</td>\n",
       "      <td>...</td>\n",
       "      <td>...</td>\n",
       "      <td>...</td>\n",
       "      <td>...</td>\n",
       "      <td>...</td>\n",
       "      <td>...</td>\n",
       "      <td>...</td>\n",
       "      <td>...</td>\n",
       "      <td>...</td>\n",
       "      <td>...</td>\n",
       "      <td>...</td>\n",
       "    </tr>\n",
       "    <tr>\n",
       "      <th>163060</th>\n",
       "      <td>948 - SIGNS &amp; SYMPTOMS W/O MCC</td>\n",
       "      <td>670041</td>\n",
       "      <td>SETON MEDICAL CENTER WILLIAMSON</td>\n",
       "      <td>201 SETON PARKWAY</td>\n",
       "      <td>ROUND ROCK</td>\n",
       "      <td>TX</td>\n",
       "      <td>78664</td>\n",
       "      <td>TX - Austin</td>\n",
       "      <td>23</td>\n",
       "      <td>26314.39</td>\n",
       "      <td>3806.86</td>\n",
       "      <td>3071.39</td>\n",
       "    </tr>\n",
       "    <tr>\n",
       "      <th>163061</th>\n",
       "      <td>948 - SIGNS &amp; SYMPTOMS W/O MCC</td>\n",
       "      <td>670055</td>\n",
       "      <td>METHODIST STONE OAK HOSPITAL</td>\n",
       "      <td>1139 E SONTERRA BLVD</td>\n",
       "      <td>SAN ANTONIO</td>\n",
       "      <td>TX</td>\n",
       "      <td>78258</td>\n",
       "      <td>TX - San Antonio</td>\n",
       "      <td>11</td>\n",
       "      <td>21704.72</td>\n",
       "      <td>4027.36</td>\n",
       "      <td>2649.72</td>\n",
       "    </tr>\n",
       "    <tr>\n",
       "      <th>163062</th>\n",
       "      <td>948 - SIGNS &amp; SYMPTOMS W/O MCC</td>\n",
       "      <td>670056</td>\n",
       "      <td>SETON MEDICAL CENTER HAYS</td>\n",
       "      <td>6001 KYLE PKWY</td>\n",
       "      <td>KYLE</td>\n",
       "      <td>TX</td>\n",
       "      <td>78640</td>\n",
       "      <td>TX - Austin</td>\n",
       "      <td>19</td>\n",
       "      <td>39121.73</td>\n",
       "      <td>5704.36</td>\n",
       "      <td>4058.36</td>\n",
       "    </tr>\n",
       "    <tr>\n",
       "      <th>163063</th>\n",
       "      <td>948 - SIGNS &amp; SYMPTOMS W/O MCC</td>\n",
       "      <td>670060</td>\n",
       "      <td>TEXAS REGIONAL MEDICAL CENTER AT SUNNYVALE</td>\n",
       "      <td>231 SOUTH COLLINS ROAD</td>\n",
       "      <td>SUNNYVALE</td>\n",
       "      <td>TX</td>\n",
       "      <td>75182</td>\n",
       "      <td>TX - Dallas</td>\n",
       "      <td>11</td>\n",
       "      <td>28873.09</td>\n",
       "      <td>7663.09</td>\n",
       "      <td>6848.54</td>\n",
       "    </tr>\n",
       "    <tr>\n",
       "      <th>163064</th>\n",
       "      <td>948 - SIGNS &amp; SYMPTOMS W/O MCC</td>\n",
       "      <td>670068</td>\n",
       "      <td>TEXAS HEALTH PRESBYTERIAN HOSPITAL FLOWER MOUND</td>\n",
       "      <td>4400 LONG PRAIRIE ROAD</td>\n",
       "      <td>FLOWER MOUND</td>\n",
       "      <td>TX</td>\n",
       "      <td>75028</td>\n",
       "      <td>TX - Dallas</td>\n",
       "      <td>12</td>\n",
       "      <td>15042.00</td>\n",
       "      <td>3539.75</td>\n",
       "      <td>2887.41</td>\n",
       "    </tr>\n",
       "  </tbody>\n",
       "</table>\n",
       "<p>163065 rows × 12 columns</p>\n",
       "</div>"
      ],
      "text/plain": [
       "                                  DRG Definition  Provider Id  \\\n",
       "0       039 - EXTRACRANIAL PROCEDURES W/O CC/MCC        10001   \n",
       "1       039 - EXTRACRANIAL PROCEDURES W/O CC/MCC        10005   \n",
       "2       039 - EXTRACRANIAL PROCEDURES W/O CC/MCC        10006   \n",
       "3       039 - EXTRACRANIAL PROCEDURES W/O CC/MCC        10011   \n",
       "4       039 - EXTRACRANIAL PROCEDURES W/O CC/MCC        10016   \n",
       "...                                          ...          ...   \n",
       "163060            948 - SIGNS & SYMPTOMS W/O MCC       670041   \n",
       "163061            948 - SIGNS & SYMPTOMS W/O MCC       670055   \n",
       "163062            948 - SIGNS & SYMPTOMS W/O MCC       670056   \n",
       "163063            948 - SIGNS & SYMPTOMS W/O MCC       670060   \n",
       "163064            948 - SIGNS & SYMPTOMS W/O MCC       670068   \n",
       "\n",
       "                                          Provider Name  \\\n",
       "0                      SOUTHEAST ALABAMA MEDICAL CENTER   \n",
       "1                         MARSHALL MEDICAL CENTER SOUTH   \n",
       "2                        ELIZA COFFEE MEMORIAL HOSPITAL   \n",
       "3                                     ST VINCENT'S EAST   \n",
       "4                         SHELBY BAPTIST MEDICAL CENTER   \n",
       "...                                                 ...   \n",
       "163060                  SETON MEDICAL CENTER WILLIAMSON   \n",
       "163061                     METHODIST STONE OAK HOSPITAL   \n",
       "163062                        SETON MEDICAL CENTER HAYS   \n",
       "163063       TEXAS REGIONAL MEDICAL CENTER AT SUNNYVALE   \n",
       "163064  TEXAS HEALTH PRESBYTERIAN HOSPITAL FLOWER MOUND   \n",
       "\n",
       "           Provider Street Address Provider City Provider State  \\\n",
       "0           1108 ROSS CLARK CIRCLE        DOTHAN             AL   \n",
       "1       2505 U S HIGHWAY 431 NORTH          BOAZ             AL   \n",
       "2               205 MARENGO STREET      FLORENCE             AL   \n",
       "3       50 MEDICAL PARK EAST DRIVE    BIRMINGHAM             AL   \n",
       "4          1000 FIRST STREET NORTH     ALABASTER             AL   \n",
       "...                            ...           ...            ...   \n",
       "163060           201 SETON PARKWAY    ROUND ROCK             TX   \n",
       "163061        1139 E SONTERRA BLVD   SAN ANTONIO             TX   \n",
       "163062              6001 KYLE PKWY          KYLE             TX   \n",
       "163063      231 SOUTH COLLINS ROAD     SUNNYVALE             TX   \n",
       "163064      4400 LONG PRAIRIE ROAD  FLOWER MOUND             TX   \n",
       "\n",
       "        Provider Zip Code Hospital Referral Region Description  \\\n",
       "0                   36301                          AL - Dothan   \n",
       "1                   35957                      AL - Birmingham   \n",
       "2                   35631                      AL - Birmingham   \n",
       "3                   35235                      AL - Birmingham   \n",
       "4                   35007                      AL - Birmingham   \n",
       "...                   ...                                  ...   \n",
       "163060              78664                          TX - Austin   \n",
       "163061              78258                     TX - San Antonio   \n",
       "163062              78640                          TX - Austin   \n",
       "163063              75182                          TX - Dallas   \n",
       "163064              75028                          TX - Dallas   \n",
       "\n",
       "         Total Discharges    Average Covered Charges   \\\n",
       "0                       91                   32963.07   \n",
       "1                       14                   15131.85   \n",
       "2                       24                   37560.37   \n",
       "3                       25                   13998.28   \n",
       "4                       18                   31633.27   \n",
       "...                    ...                        ...   \n",
       "163060                  23                   26314.39   \n",
       "163061                  11                   21704.72   \n",
       "163062                  19                   39121.73   \n",
       "163063                  11                   28873.09   \n",
       "163064                  12                   15042.00   \n",
       "\n",
       "         Average Total Payments   Average Medicare Payments  \n",
       "0                        5777.24                    4763.73  \n",
       "1                        5787.57                    4976.71  \n",
       "2                        5434.95                    4453.79  \n",
       "3                        5417.56                    4129.16  \n",
       "4                        5658.33                    4851.44  \n",
       "...                          ...                        ...  \n",
       "163060                   3806.86                    3071.39  \n",
       "163061                   4027.36                    2649.72  \n",
       "163062                   5704.36                    4058.36  \n",
       "163063                   7663.09                    6848.54  \n",
       "163064                   3539.75                    2887.41  \n",
       "\n",
       "[163065 rows x 12 columns]"
      ]
     },
     "execution_count": 2,
     "metadata": {},
     "output_type": "execute_result"
    }
   ],
   "source": [
    "# importing necessary libraries into notebook.\n",
    "import pandas as pd\n",
    "import seaborn as sns\n",
    "import matplotlib.pyplot as  plt\n",
    "import numpy as np\n",
    "# creating dataframe by reading  csv file into pandas.\n",
    "df=pd.read_csv(\"Inpatient_Prospective_Payment_System__IPPS__Provider.csv\")\n",
    "df\n",
    "# path='Map - Top 10 DRG by Total Discharges Data_data.csv'\n",
    "# with open(path,'rb') as df:\n",
    "#   contents = df.read()\n",
    "\n",
    "# print(df)"
   ]
  },
  {
   "cell_type": "markdown",
   "metadata": {
    "azdata_cell_guid": "129ce836-524b-4ea8-b394-a959f9308d6a"
   },
   "source": [
    "## Get to Know the Numbers\n",
    "\n",
    "Now that you have everything setup, put any code that you use to get to know the dataframe and its rows and columns better in the cell below. You can use whatever techniques you like, except for visualizations. You will put those in a separate section.\n",
    "\n",
    "When working on your code, make sure to leave comments so that your mentors can understand your thought process."
   ]
  },
  {
   "cell_type": "code",
   "execution_count": 2,
   "metadata": {
    "azdata_cell_guid": "0ca2d318-f6e8-43ef-a33e-5304d24d928d",
    "tags": []
   },
   "outputs": [
    {
     "data": {
      "text/plain": [
       "(163065, 12)"
      ]
     },
     "execution_count": 2,
     "metadata": {},
     "output_type": "execute_result"
    }
   ],
   "source": [
    "# knowing the rows and columns of the dataset.\n",
    "df.shape"
   ]
  },
  {
   "cell_type": "code",
   "execution_count": 3,
   "metadata": {},
   "outputs": [
    {
     "data": {
      "text/plain": [
       "Index(['DRG Definition', 'Provider Id', 'Provider Name',\n",
       "       'Provider Street Address', 'Provider City', 'Provider State',\n",
       "       'Provider Zip Code', 'Hospital Referral Region Description',\n",
       "       ' Total Discharges ', ' Average Covered Charges ',\n",
       "       ' Average Total Payments ', 'Average Medicare Payments'],\n",
       "      dtype='object')"
      ]
     },
     "execution_count": 3,
     "metadata": {},
     "output_type": "execute_result"
    }
   ],
   "source": [
    "# knowing the columns nmaes of the datset.\n",
    "df.columns"
   ]
  },
  {
   "cell_type": "code",
   "execution_count": 4,
   "metadata": {},
   "outputs": [
    {
     "name": "stdout",
     "output_type": "stream",
     "text": [
      "<class 'pandas.core.frame.DataFrame'>\n",
      "RangeIndex: 163065 entries, 0 to 163064\n",
      "Data columns (total 12 columns):\n",
      " #   Column                                Non-Null Count   Dtype  \n",
      "---  ------                                --------------   -----  \n",
      " 0   DRG Definition                        163065 non-null  object \n",
      " 1   Provider Id                           163065 non-null  int64  \n",
      " 2   Provider Name                         163065 non-null  object \n",
      " 3   Provider Street Address               163065 non-null  object \n",
      " 4   Provider City                         163065 non-null  object \n",
      " 5   Provider State                        163065 non-null  object \n",
      " 6   Provider Zip Code                     163065 non-null  int64  \n",
      " 7   Hospital Referral Region Description  163065 non-null  object \n",
      " 8    Total Discharges                     163065 non-null  int64  \n",
      " 9    Average Covered Charges              163065 non-null  float64\n",
      " 10   Average Total Payments               163065 non-null  float64\n",
      " 11  Average Medicare Payments             163065 non-null  float64\n",
      "dtypes: float64(3), int64(3), object(6)\n",
      "memory usage: 14.9+ MB\n"
     ]
    }
   ],
   "source": [
    "df.info()"
   ]
  },
  {
   "cell_type": "code",
   "execution_count": 5,
   "metadata": {
    "scrolled": false
   },
   "outputs": [
    {
     "data": {
      "text/html": [
       "<div>\n",
       "<style scoped>\n",
       "    .dataframe tbody tr th:only-of-type {\n",
       "        vertical-align: middle;\n",
       "    }\n",
       "\n",
       "    .dataframe tbody tr th {\n",
       "        vertical-align: top;\n",
       "    }\n",
       "\n",
       "    .dataframe thead th {\n",
       "        text-align: right;\n",
       "    }\n",
       "</style>\n",
       "<table border=\"1\" class=\"dataframe\">\n",
       "  <thead>\n",
       "    <tr style=\"text-align: right;\">\n",
       "      <th></th>\n",
       "      <th>count</th>\n",
       "      <th>unique</th>\n",
       "      <th>top</th>\n",
       "      <th>freq</th>\n",
       "      <th>mean</th>\n",
       "      <th>std</th>\n",
       "      <th>min</th>\n",
       "      <th>25%</th>\n",
       "      <th>50%</th>\n",
       "      <th>75%</th>\n",
       "      <th>max</th>\n",
       "    </tr>\n",
       "  </thead>\n",
       "  <tbody>\n",
       "    <tr>\n",
       "      <th>DRG Definition</th>\n",
       "      <td>163065</td>\n",
       "      <td>100</td>\n",
       "      <td>194 - SIMPLE PNEUMONIA &amp; PLEURISY W CC</td>\n",
       "      <td>3023</td>\n",
       "      <td>NaN</td>\n",
       "      <td>NaN</td>\n",
       "      <td>NaN</td>\n",
       "      <td>NaN</td>\n",
       "      <td>NaN</td>\n",
       "      <td>NaN</td>\n",
       "      <td>NaN</td>\n",
       "    </tr>\n",
       "    <tr>\n",
       "      <th>Provider Id</th>\n",
       "      <td>163065.0</td>\n",
       "      <td>NaN</td>\n",
       "      <td>NaN</td>\n",
       "      <td>NaN</td>\n",
       "      <td>255569.865428</td>\n",
       "      <td>151563.671767</td>\n",
       "      <td>10001.0</td>\n",
       "      <td>110092.0</td>\n",
       "      <td>250007.0</td>\n",
       "      <td>380075.0</td>\n",
       "      <td>670077.0</td>\n",
       "    </tr>\n",
       "    <tr>\n",
       "      <th>Provider Name</th>\n",
       "      <td>163065</td>\n",
       "      <td>3201</td>\n",
       "      <td>GOOD SAMARITAN HOSPITAL</td>\n",
       "      <td>633</td>\n",
       "      <td>NaN</td>\n",
       "      <td>NaN</td>\n",
       "      <td>NaN</td>\n",
       "      <td>NaN</td>\n",
       "      <td>NaN</td>\n",
       "      <td>NaN</td>\n",
       "      <td>NaN</td>\n",
       "    </tr>\n",
       "    <tr>\n",
       "      <th>Provider Street Address</th>\n",
       "      <td>163065</td>\n",
       "      <td>3326</td>\n",
       "      <td>100 MEDICAL CENTER DRIVE</td>\n",
       "      <td>183</td>\n",
       "      <td>NaN</td>\n",
       "      <td>NaN</td>\n",
       "      <td>NaN</td>\n",
       "      <td>NaN</td>\n",
       "      <td>NaN</td>\n",
       "      <td>NaN</td>\n",
       "      <td>NaN</td>\n",
       "    </tr>\n",
       "    <tr>\n",
       "      <th>Provider City</th>\n",
       "      <td>163065</td>\n",
       "      <td>1977</td>\n",
       "      <td>CHICAGO</td>\n",
       "      <td>1505</td>\n",
       "      <td>NaN</td>\n",
       "      <td>NaN</td>\n",
       "      <td>NaN</td>\n",
       "      <td>NaN</td>\n",
       "      <td>NaN</td>\n",
       "      <td>NaN</td>\n",
       "      <td>NaN</td>\n",
       "    </tr>\n",
       "    <tr>\n",
       "      <th>Provider State</th>\n",
       "      <td>163065</td>\n",
       "      <td>51</td>\n",
       "      <td>CA</td>\n",
       "      <td>13064</td>\n",
       "      <td>NaN</td>\n",
       "      <td>NaN</td>\n",
       "      <td>NaN</td>\n",
       "      <td>NaN</td>\n",
       "      <td>NaN</td>\n",
       "      <td>NaN</td>\n",
       "      <td>NaN</td>\n",
       "    </tr>\n",
       "    <tr>\n",
       "      <th>Provider Zip Code</th>\n",
       "      <td>163065.0</td>\n",
       "      <td>NaN</td>\n",
       "      <td>NaN</td>\n",
       "      <td>NaN</td>\n",
       "      <td>47938.121908</td>\n",
       "      <td>27854.32308</td>\n",
       "      <td>1040.0</td>\n",
       "      <td>27261.0</td>\n",
       "      <td>44309.0</td>\n",
       "      <td>72901.0</td>\n",
       "      <td>99835.0</td>\n",
       "    </tr>\n",
       "    <tr>\n",
       "      <th>Hospital Referral Region Description</th>\n",
       "      <td>163065</td>\n",
       "      <td>306</td>\n",
       "      <td>CA - Los Angeles</td>\n",
       "      <td>3653</td>\n",
       "      <td>NaN</td>\n",
       "      <td>NaN</td>\n",
       "      <td>NaN</td>\n",
       "      <td>NaN</td>\n",
       "      <td>NaN</td>\n",
       "      <td>NaN</td>\n",
       "      <td>NaN</td>\n",
       "    </tr>\n",
       "    <tr>\n",
       "      <th>Total Discharges</th>\n",
       "      <td>163065.0</td>\n",
       "      <td>NaN</td>\n",
       "      <td>NaN</td>\n",
       "      <td>NaN</td>\n",
       "      <td>42.776304</td>\n",
       "      <td>51.104042</td>\n",
       "      <td>11.0</td>\n",
       "      <td>17.0</td>\n",
       "      <td>27.0</td>\n",
       "      <td>49.0</td>\n",
       "      <td>3383.0</td>\n",
       "    </tr>\n",
       "    <tr>\n",
       "      <th>Average Covered Charges</th>\n",
       "      <td>163065.0</td>\n",
       "      <td>NaN</td>\n",
       "      <td>NaN</td>\n",
       "      <td>NaN</td>\n",
       "      <td>36133.954224</td>\n",
       "      <td>35065.365931</td>\n",
       "      <td>2459.4</td>\n",
       "      <td>15947.16</td>\n",
       "      <td>25245.82</td>\n",
       "      <td>43232.59</td>\n",
       "      <td>929118.9</td>\n",
       "    </tr>\n",
       "    <tr>\n",
       "      <th>Average Total Payments</th>\n",
       "      <td>163065.0</td>\n",
       "      <td>NaN</td>\n",
       "      <td>NaN</td>\n",
       "      <td>NaN</td>\n",
       "      <td>9707.473804</td>\n",
       "      <td>7664.642598</td>\n",
       "      <td>2673.0</td>\n",
       "      <td>5234.5</td>\n",
       "      <td>7214.1</td>\n",
       "      <td>11286.4</td>\n",
       "      <td>156158.18</td>\n",
       "    </tr>\n",
       "    <tr>\n",
       "      <th>Average Medicare Payments</th>\n",
       "      <td>163065.0</td>\n",
       "      <td>NaN</td>\n",
       "      <td>NaN</td>\n",
       "      <td>NaN</td>\n",
       "      <td>8494.490964</td>\n",
       "      <td>7309.467261</td>\n",
       "      <td>1148.9</td>\n",
       "      <td>4192.35</td>\n",
       "      <td>6158.46</td>\n",
       "      <td>10056.88</td>\n",
       "      <td>154620.81</td>\n",
       "    </tr>\n",
       "  </tbody>\n",
       "</table>\n",
       "</div>"
      ],
      "text/plain": [
       "                                         count unique  \\\n",
       "DRG Definition                          163065    100   \n",
       "Provider Id                           163065.0    NaN   \n",
       "Provider Name                           163065   3201   \n",
       "Provider Street Address                 163065   3326   \n",
       "Provider City                           163065   1977   \n",
       "Provider State                          163065     51   \n",
       "Provider Zip Code                     163065.0    NaN   \n",
       "Hospital Referral Region Description    163065    306   \n",
       " Total Discharges                     163065.0    NaN   \n",
       " Average Covered Charges              163065.0    NaN   \n",
       " Average Total Payments               163065.0    NaN   \n",
       "Average Medicare Payments             163065.0    NaN   \n",
       "\n",
       "                                                                         top  \\\n",
       "DRG Definition                        194 - SIMPLE PNEUMONIA & PLEURISY W CC   \n",
       "Provider Id                                                              NaN   \n",
       "Provider Name                                        GOOD SAMARITAN HOSPITAL   \n",
       "Provider Street Address                             100 MEDICAL CENTER DRIVE   \n",
       "Provider City                                                        CHICAGO   \n",
       "Provider State                                                            CA   \n",
       "Provider Zip Code                                                        NaN   \n",
       "Hospital Referral Region Description                        CA - Los Angeles   \n",
       " Total Discharges                                                        NaN   \n",
       " Average Covered Charges                                                 NaN   \n",
       " Average Total Payments                                                  NaN   \n",
       "Average Medicare Payments                                                NaN   \n",
       "\n",
       "                                       freq           mean            std  \\\n",
       "DRG Definition                         3023            NaN            NaN   \n",
       "Provider Id                             NaN  255569.865428  151563.671767   \n",
       "Provider Name                           633            NaN            NaN   \n",
       "Provider Street Address                 183            NaN            NaN   \n",
       "Provider City                          1505            NaN            NaN   \n",
       "Provider State                        13064            NaN            NaN   \n",
       "Provider Zip Code                       NaN   47938.121908    27854.32308   \n",
       "Hospital Referral Region Description   3653            NaN            NaN   \n",
       " Total Discharges                       NaN      42.776304      51.104042   \n",
       " Average Covered Charges                NaN   36133.954224   35065.365931   \n",
       " Average Total Payments                 NaN    9707.473804    7664.642598   \n",
       "Average Medicare Payments               NaN    8494.490964    7309.467261   \n",
       "\n",
       "                                          min       25%       50%       75%  \\\n",
       "DRG Definition                            NaN       NaN       NaN       NaN   \n",
       "Provider Id                           10001.0  110092.0  250007.0  380075.0   \n",
       "Provider Name                             NaN       NaN       NaN       NaN   \n",
       "Provider Street Address                   NaN       NaN       NaN       NaN   \n",
       "Provider City                             NaN       NaN       NaN       NaN   \n",
       "Provider State                            NaN       NaN       NaN       NaN   \n",
       "Provider Zip Code                      1040.0   27261.0   44309.0   72901.0   \n",
       "Hospital Referral Region Description      NaN       NaN       NaN       NaN   \n",
       " Total Discharges                        11.0      17.0      27.0      49.0   \n",
       " Average Covered Charges               2459.4  15947.16  25245.82  43232.59   \n",
       " Average Total Payments                2673.0    5234.5    7214.1   11286.4   \n",
       "Average Medicare Payments              1148.9   4192.35   6158.46  10056.88   \n",
       "\n",
       "                                            max  \n",
       "DRG Definition                              NaN  \n",
       "Provider Id                            670077.0  \n",
       "Provider Name                               NaN  \n",
       "Provider Street Address                     NaN  \n",
       "Provider City                               NaN  \n",
       "Provider State                              NaN  \n",
       "Provider Zip Code                       99835.0  \n",
       "Hospital Referral Region Description        NaN  \n",
       " Total Discharges                        3383.0  \n",
       " Average Covered Charges               929118.9  \n",
       " Average Total Payments               156158.18  \n",
       "Average Medicare Payments             154620.81  "
      ]
     },
     "execution_count": 5,
     "metadata": {},
     "output_type": "execute_result"
    }
   ],
   "source": [
    "df.describe(include=\"all\").T # T stands for transpose"
   ]
  },
  {
   "cell_type": "code",
   "execution_count": 7,
   "metadata": {},
   "outputs": [
    {
     "data": {
      "text/plain": [
       "count      163065\n",
       "unique       1977\n",
       "top       CHICAGO\n",
       "freq         1505\n",
       "Name: Provider City, dtype: object"
      ]
     },
     "execution_count": 7,
     "metadata": {},
     "output_type": "execute_result"
    }
   ],
   "source": [
    "df[\"Provider City\"].describe()"
   ]
  },
  {
   "cell_type": "code",
   "execution_count": 28,
   "metadata": {},
   "outputs": [
    {
     "data": {
      "text/plain": [
       "count                                     163065\n",
       "unique                                       100\n",
       "top       194 - SIMPLE PNEUMONIA & PLEURISY W CC\n",
       "freq                                        3023\n",
       "Name: DRG Definition, dtype: object"
      ]
     },
     "execution_count": 28,
     "metadata": {},
     "output_type": "execute_result"
    }
   ],
   "source": [
    "df[\"DRG Definition\"].describe()"
   ]
  },
  {
   "cell_type": "code",
   "execution_count": 34,
   "metadata": {},
   "outputs": [
    {
     "data": {
      "text/plain": [
       "count    163065.000000\n",
       "mean       8494.490964\n",
       "std        7309.467261\n",
       "min        1148.900000\n",
       "25%        4192.350000\n",
       "50%        6158.460000\n",
       "75%       10056.880000\n",
       "max      154620.810000\n",
       "Name: Average Medicare Payments, dtype: float64"
      ]
     },
     "execution_count": 34,
     "metadata": {},
     "output_type": "execute_result"
    }
   ],
   "source": [
    "df[\"Average Medicare Payments\"].describe()"
   ]
  },
  {
   "cell_type": "code",
   "execution_count": 5,
   "metadata": {},
   "outputs": [
    {
     "data": {
      "text/plain": [
       "CA    13064\n",
       "TX    11864\n",
       "FL    11155\n",
       "NY     9178\n",
       "IL     7909\n",
       "PA     7804\n",
       "OH     7012\n",
       "MI     5419\n",
       "NC     5041\n",
       "GA     4968\n",
       "NJ     4826\n",
       "VA     4332\n",
       "IN     4260\n",
       "TN     4168\n",
       "MO     4059\n",
       "MA     3842\n",
       "AL     3635\n",
       "MD     3330\n",
       "KY     3229\n",
       "LA     3027\n",
       "AZ     2851\n",
       "SC     2847\n",
       "WI     2834\n",
       "WA     2778\n",
       "OK     2520\n",
       "MS     2410\n",
       "MN     2252\n",
       "AR     2067\n",
       "CT     2011\n",
       "CO     1890\n",
       "IA     1734\n",
       "KS     1638\n",
       "WV     1589\n",
       "OR     1299\n",
       "NV     1202\n",
       "NE     1062\n",
       "NM      917\n",
       "ME      888\n",
       "NH      823\n",
       "UT      732\n",
       "RI      588\n",
       "ID      551\n",
       "MT      506\n",
       "SD      486\n",
       "DC      462\n",
       "HI      442\n",
       "ND      422\n",
       "DE      394\n",
       "VT      270\n",
       "WY      247\n",
       "AK      231\n",
       "Name: Provider State, dtype: int64"
      ]
     },
     "execution_count": 5,
     "metadata": {},
     "output_type": "execute_result"
    }
   ],
   "source": [
    "df[\"Provider State\"].value_counts()"
   ]
  },
  {
   "cell_type": "code",
   "execution_count": 6,
   "metadata": {},
   "outputs": [
    {
     "data": {
      "text/plain": [
       "array(['AL', 'AK', 'AZ', 'AR', 'CA', 'CO', 'CT', 'DE', 'DC', 'FL', 'GA',\n",
       "       'HI', 'ID', 'IL', 'IN', 'IA', 'KS', 'KY', 'LA', 'ME', 'MD', 'MA',\n",
       "       'MI', 'MN', 'MS', 'TX', 'MO', 'MT', 'NE', 'NV', 'NH', 'NJ', 'NM',\n",
       "       'NY', 'NC', 'ND', 'OH', 'OK', 'OR', 'PA', 'RI', 'SC', 'SD', 'TN',\n",
       "       'UT', 'VT', 'VA', 'WA', 'WV', 'WI', 'WY'], dtype=object)"
      ]
     },
     "execution_count": 6,
     "metadata": {},
     "output_type": "execute_result"
    }
   ],
   "source": [
    "df[\"Provider State\"].unique()"
   ]
  },
  {
   "cell_type": "code",
   "execution_count": 37,
   "metadata": {},
   "outputs": [
    {
     "data": {
      "text/plain": [
       "194 - SIMPLE PNEUMONIA & PLEURISY W CC                                      3023\n",
       "690 - KIDNEY & URINARY TRACT INFECTIONS W/O MCC                             2989\n",
       "292 - HEART FAILURE & SHOCK W CC                                            2953\n",
       "392 - ESOPHAGITIS, GASTROENT & MISC DIGEST DISORDERS W/O MCC                2950\n",
       "641 - MISC DISORDERS OF NUTRITION,METABOLISM,FLUIDS/ELECTROLYTES W/O MCC    2899\n",
       "                                                                            ... \n",
       "315 - OTHER CIRCULATORY SYSTEM DIAGNOSES W CC                                859\n",
       "473 - CERVICAL SPINAL FUSION W/O CC/MCC                                      846\n",
       "917 - POISONING & TOXIC EFFECTS OF DRUGS W MCC                               843\n",
       "251 - PERC CARDIOVASC PROC W/O CORONARY ARTERY STENT W/O MCC                 727\n",
       "885 - PSYCHOSES                                                              613\n",
       "Name: DRG Definition, Length: 100, dtype: int64"
      ]
     },
     "execution_count": 37,
     "metadata": {},
     "output_type": "execute_result"
    }
   ],
   "source": [
    "df[\"DRG Definition\"].value_counts()"
   ]
  },
  {
   "cell_type": "code",
   "execution_count": 39,
   "metadata": {},
   "outputs": [
    {
     "data": {
      "text/plain": [
       "0"
      ]
     },
     "execution_count": 39,
     "metadata": {},
     "output_type": "execute_result"
    }
   ],
   "source": [
    "df.duplicated().sum()"
   ]
  },
  {
   "cell_type": "code",
   "execution_count": 40,
   "metadata": {},
   "outputs": [
    {
     "data": {
      "text/plain": [
       "DRG Definition                          0\n",
       "Provider Id                             0\n",
       "Provider Name                           0\n",
       "Provider Street Address                 0\n",
       "Provider City                           0\n",
       "Provider State                          0\n",
       "Provider Zip Code                       0\n",
       "Hospital Referral Region Description    0\n",
       " Total Discharges                       0\n",
       " Average Covered Charges                0\n",
       " Average Total Payments                 0\n",
       "Average Medicare Payments               0\n",
       "dtype: int64"
      ]
     },
     "execution_count": 40,
     "metadata": {},
     "output_type": "execute_result"
    }
   ],
   "source": [
    "df.isnull().sum()"
   ]
  },
  {
   "cell_type": "markdown",
   "metadata": {
    "azdata_cell_guid": "d45060f3-97bc-484a-9ef4-66145bbe9427"
   },
   "source": [
    "## Visualize\n",
    "\n",
    "Create any visualizations for your EDA here. Make note in the form of code comments of what your thought process is for your visualizations."
   ]
  },
  {
   "cell_type": "code",
   "execution_count": 12,
   "metadata": {},
   "outputs": [],
   "source": [
    "# Distribution graphs (histogram/bar graph) of column data\n",
    "def plotPerColumnDistribution(df, nGraphShown, nGraphPerRow):\n",
    "    nunique = df.nunique()\n",
    "    df = df[[col for col in df if nunique[col] > 1 and nunique[col] < 50]] # For displaying purposes, pick columns that have between 1 and 50 unique values\n",
    "    nRow, nCol = df.shape\n",
    "    columnNames = list(df)\n",
    "    nGraphRow = int((nCol + nGraphPerRow - 1) / nGraphPerRow)\n",
    "    plt.figure(num = None, figsize = (6 * nGraphPerRow, 8 * nGraphRow), dpi = 80, facecolor = 'w', edgecolor = 'k')\n",
    "    for i in range(min(nCol, nGraphShown)):\n",
    "        plt.subplot(nGraphRow, nGraphPerRow, i + 1)\n",
    "        columnDf = df.iloc[:, i]\n",
    "        if (not np.issubdtype(type(columnDf.iloc[0]), np.number)):\n",
    "            valueCounts = columnDf.value_counts()\n",
    "            valueCounts.plot.bar()\n",
    "        else:\n",
    "            columnDf.hist()\n",
    "        plt.ylabel('counts')\n",
    "        plt.xticks(rotation = 90)\n",
    "        plt.title(f'{columnNames[i]} (column {i})')\n",
    "    plt.tight_layout(pad = 1.0, w_pad = 1.0, h_pad = 1.0)\n",
    "    plt.show()\n"
   ]
  },
  {
   "cell_type": "code",
   "execution_count": 13,
   "metadata": {},
   "outputs": [
    {
     "name": "stdout",
     "output_type": "stream",
     "text": [
      "There are 1000 rows and 12 columns\n"
     ]
    }
   ],
   "source": [
    "nRowsRead = 1000\n",
    "df1 = pd.read_csv('Inpatient_Prospective_Payment_System__IPPS__Provider.csv', delimiter=',', nrows = nRowsRead)\n",
    "df1.dataframeName = 'Inpatient_Prospective_Payment_System__IPPS__Provider.csv'\n",
    "nRow, nCol = df1.shape\n",
    "# print(f'There are {nRow} rows and {nCol} columns')\n",
    "df1.shape\n",
    "print(f'There are {nRow} rows and {nCol} columns')"
   ]
  },
  {
   "cell_type": "code",
   "execution_count": 7,
   "metadata": {},
   "outputs": [
    {
     "data": {
      "image/png": "[encoded data removed]",
      "text/plain": [
       "<Figure size 4800x640 with 1 Axes>"
      ]
     },
     "metadata": {},
     "output_type": "display_data"
    }
   ],
   "source": [
    "plotPerColumnDistribution(df1, 10, 10)"
   ]
  },
  {
   "cell_type": "code",
   "execution_count": null,
   "metadata": {},
   "outputs": [],
   "source": [
    "# Florida, California, Texas, Illinois and New York have the highest counts (because they have a large population)\n",
    "# Vermont, Arkansas, Hawaii and Wyoming have the least counts\n"
   ]
  },
  {
   "cell_type": "code",
   "execution_count": 87,
   "metadata": {
    "azdata_cell_guid": "f4565b03-759a-47a8-b58f-01b32a0b4b67"
   },
   "outputs": [],
   "source": [
    "def plotCorrelationMatrix(df, graphWidth):\n",
    "    filename = df.dataframeName\n",
    "    df = df.dropna('columns') # drop columns with NaN\n",
    "    df = df[[col for col in df if df[col].nunique() > 1]] # keep columns where there are more than 1 unique values\n",
    "    if df.shape[1] < 2:\n",
    "        print(f'No correlation plots shown: The number of non-NaN or constant columns ({df.shape[1]}) is less than 2')\n",
    "        return\n",
    "    corr = df.corr()\n",
    "    plt.figure(num=None, figsize=(graphWidth, graphWidth), dpi=80, facecolor='w', edgecolor='k')\n",
    "    corrMat = plt.matshow(corr, fignum = 1)\n",
    "    plt.xticks(range(len(corr.columns)), corr.columns, rotation=90)\n",
    "    plt.yticks(range(len(corr.columns)), corr.columns)\n",
    "    plt.gca().xaxis.tick_bottom()\n",
    "    plt.colorbar(corrMat)\n",
    "    plt.title(f'Correlation Matrix for {filename}', fontsize=15)\n",
    "    plt.show()"
   ]
  },
  {
   "cell_type": "code",
   "execution_count": 94,
   "metadata": {},
   "outputs": [
    {
     "name": "stderr",
     "output_type": "stream",
     "text": [
      "/var/folders/mq/ylj5z08x5mx59bw0_nz_pfhm0000gn/T/ipykernel_4208/2970181590.py:3: FutureWarning: In a future version of pandas all arguments of DataFrame.dropna will be keyword-only.\n",
      "  df = df.dropna('columns') # drop columns with NaN\n",
      "/var/folders/mq/ylj5z08x5mx59bw0_nz_pfhm0000gn/T/ipykernel_4208/2970181590.py:8: FutureWarning: The default value of numeric_only in DataFrame.corr is deprecated. In a future version, it will default to False. Select only valid columns or specify the value of numeric_only to silence this warning.\n",
      "  corr = df.corr()\n"
     ]
    },
    {
     "data": {
      "image/png": "[encoded data removed]",
      "text/plain": [
       "<Figure size 640x640 with 2 Axes>"
      ]
     },
     "metadata": {},
     "output_type": "display_data"
    }
   ],
   "source": [
    "plotCorrelationMatrix(df1,8)"
   ]
  },
  {
   "cell_type": "markdown",
   "metadata": {
    "azdata_cell_guid": "d4931c0c-2c09-4ee1-95d4-73dd08c2f0a6"
   },
   "source": [
    "## Summarize Your Results\n",
    "\n",
    "With your EDA complete, answer the following questions.\n",
    "\n",
    "1. Was there anything surprising about your dataset? \n",
    "\n",
    "2. Do you have any concerns about your dataset? \n",
    "I think there distrubtion information about each factor with target atribute stroke prediction Also the different factors causees different percentile records in stroke for an individual  . i think most causing factors  of the dataset to get a more accurate analysis on target attribute in causing brain stroke prediction.\n",
    "3. Is there anything you want to make note of for the next phase of your analysis, which is cleaning data? \n",
    "for next phase of data cleaning handle missing  values ...to get my analysis and work unique fieldfor prediction.\n"
   ]
  }
 ],
 "metadata": {
  "kernelspec": {
   "display_name": "Python 3 (ipykernel)",
   "language": "python",
   "name": "python3"
  },
  "language_info": {
   "codemirror_mode": {
    "name": "ipython",
    "version": 3
   },
   "file_extension": ".py",
   "mimetype": "text/x-python",
   "name": "python",
   "nbconvert_exporter": "python",
   "pygments_lexer": "ipython3",
   "version": "3.10.9"
  }
 },
 "nbformat": 4,
 "nbformat_minor": 2
}
